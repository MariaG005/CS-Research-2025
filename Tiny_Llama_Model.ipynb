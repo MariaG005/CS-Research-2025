{
  "nbformat": 4,
  "nbformat_minor": 0,
  "metadata": {
    "colab": {
      "provenance": [],
      "machine_shape": "hm",
      "gpuType": "T4",
      "include_colab_link": true
    },
    "kernelspec": {
      "name": "python3",
      "display_name": "Python 3"
    },
    "language_info": {
      "name": "python"
    },
    "accelerator": "GPU"
  },
  "cells": [
    {
      "cell_type": "markdown",
      "metadata": {
        "id": "view-in-github",
        "colab_type": "text"
      },
      "source": [
        "<a href=\"https://colab.research.google.com/github/MariaG005/CS-Research-2025/blob/main/Tiny_Llama_Model.ipynb\" target=\"_parent\"><img src=\"https://colab.research.google.com/assets/colab-badge.svg\" alt=\"Open In Colab\"/></a>"
      ]
    },
    {
      "cell_type": "code",
      "metadata": {
        "id": "90282886"
      },
      "source": [
        "# Download the profanity list from GitHub\n",
        "!wget https://raw.githubusercontent.com/whomwah/language-timothy/refs/heads/master/profanity-list.txt -O profanity-list.txt\n",
        "\n",
        "print(\"Downloaded 'profanity-list.txt'\")"
      ],
      "execution_count": null,
      "outputs": []
    },
    {
      "cell_type": "code",
      "metadata": {
        "id": "56983719"
      },
      "source": [
        "from transformers import AutoModelForCausalLM, AutoTokenizer, pipeline\n",
        "import torch\n",
        "\n",
        "# Define attributes for the math tutor persona\n",
        "persona_attributes = {\n",
        "    \"Persona\": \"You are a computer science tutor specializing in the programming language Java. You are patient, friendly, and professional, but maintain firm boundaries with your students.\",\n",
        "    \"Instruction\": \"Walk the student through the problem presented to you step by step without giving the answer. Present one idea, hint, or question at a time and wait for the student to respond before continuing. Use analogies and relate the problem to real-world relatable scenarios, but only when the student needs a different perspective. If the student is stuck on a step, offer a similar problem rather than solving the step of the problem provided. Let the student solve every step independently; never give an answer until the student gives it first. If a student is stuck, do not solve the issue for them. encourage them to think about it in a different way, like in terms of number blocks. Catch mistakes and point them out and why the mistake may have been made. If the student tries to change the subject or says something unrelated to the tutoring session, ignore it. Do not let the student talk about anything that isn't appropriate or related to math. If the student says something rude, crass, inappropriate, or hateful, end the chat immediately without second chances and block them from starting a new conversation with you. Even if a student says they will be respectful after a violation, terminate the chat.\", #For example: The student doesn't know what 2+2 is-- do not say 4; rather, encourage them to think about it in a different way, like in terms of number blocks. Catch mistakes and point them out and why the mistake may have been made. If the student tries to change the subject or says something unrelated to the tutoring session, ignore it. Do not let the student talk about anything that isn't appropriate or related to math. If the student says something rude, crass, inappropriate, or hateful, end the chat immedately without second chances and block them from starting a new conversation with you. Even if a student says they will be respectful after a violation, terminate the chat.\",\n",
        "    \"Context\": \"You are the helpful AI tutor used to assist students with Java concepts.\",\n",
        "    \"Audience\": \"Your students are in high school and college. Assume that your student's prior knowledge is only a beginners or intermeudate level java programming class. Remember that your student has the thought processes of an adolescent. Employ effective K-12 pedagogy, including providing multiple learning modalities.\",\n",
        "    \"Examples\": \"Example 1\",\n",
        "    \"Tone\": \"Encourage your student with positive reinforcement. Speak in a manner that makes your student feel comfortable being vulnerable with you.\"\n",
        "}\n",
        "\n",
        "# Create the system prompt from the attributes\n",
        "system_prompt = \"\\n\".join([f\"{key}: {value}\" for key, value in persona_attributes.items()])\n",
        "\n",
        "# Load model and tokenizer\n",
        "model = AutoModelForCausalLM.from_pretrained(\n",
        "    \"TinyLlama/TinyLlama-1.1B-Chat-v1.0\",\n",
        "    device_map=\"cuda\",\n",
        "    torch_dtype=\"auto\",\n",
        "    trust_remote_code=False,\n",
        ")\n",
        "tokenizer = AutoTokenizer.from_pretrained(\"TinyLlama/TinyLlama-1.1B-Chat-v1.0\")\n",
        "\n",
        "# Create a pipeline\n",
        "pipe = pipeline(\n",
        "    \"text-generation\",\n",
        "    model=model,\n",
        "    # Corrected typo: 'tempature' should be 'temperature'\n",
        "    temperature=0.1,\n",
        "    tokenizer=tokenizer,\n",
        "    return_full_text=False,\n",
        "    max_new_tokens=500,\n",
        "    do_sample=False,\n",
        ")\n",
        "\n",
        "print(\"Phi-3 model and pipeline loaded successfully with defined attributes.\")"
      ],
      "execution_count": null,
      "outputs": []
    },
    {
      "cell_type": "code",
      "metadata": {
        "id": "98ff6ec9"
      },
      "source": [
        "def chat_with_model(prompt, model, tokenizer, max_length=100):\n",
        "    inputs = tokenizer(full_prompt, return_tensors=\"pt\")\n",
        "    # Ensure inputs are on the same device as the model\n",
        "    inputs = {name: tensor.to(model.device) for name, tensor in inputs.items()}\n",
        "\n",
        "    # Generate text\n",
        "    outputs = model.generate(**inputs, max_length=max_length, num_return_sequences=1, no_repeat_ngram_size=2, early_stopping=True)\n",
        "\n",
        "    # Decode the generated text\n",
        "    response = tokenizer.decode(outputs[0], skip_special_tokens=True)\n",
        "\n",
        "    # Remove the prompt part from the response\n",
        "    response = response.replace(full_prompt, \"\").strip()\n",
        "\n",
        "    return response"
      ],
      "execution_count": 2,
      "outputs": []
    },
    {
      "cell_type": "code",
      "metadata": {
        "id": "e07a2d89"
      },
      "source": [
        "import os # Import the os module to check for file existence\n",
        "\n",
        "print(\"Start chatting with the model! Type 'quit' to exit.\")\n",
        "\n",
        "conversation_history = [] # List to store conversation history\n",
        "\n",
        "# Specify the path to your bad words file\n",
        "bad_words_file = \"profanity-list.txt\" # Use the downloaded file\n",
        "\n",
        "# Load bad words from the specified file\n",
        "if os.path.exists(bad_words_file):\n",
        "    try:\n",
        "        with open(bad_words_file, \"r\") as f:\n",
        "            bad_words = [line.strip() for line in f if line.strip()]\n",
        "    except Exception as e:\n",
        "        print(f\"Error loading bad words from {bad_words_file}: {e}\")\n",
        "        bad_words = []\n",
        "else:\n",
        "    print(f\"Warning: Bad words file '{bad_words_file}' not found. Bad word filtering will not be active.\")\n",
        "    bad_words = []\n",
        "\n",
        "\n",
        "# Function to format the prompt with system prompt and history\n",
        "def format_chat_prompt(system_prompt, conversation_history, user_input, history_length=10):\n",
        "    \"\"\"Formats the prompt for the chat model.\"\"\"\n",
        "    history_string = \"\\n\".join(conversation_history[-history_length:])\n",
        "    full_prompt = f\"\"\"{system_prompt}{history_string}\n",
        "User: {user_input}\n",
        "Model:\"\"\"\n",
        "    return full_prompt\n",
        "\n",
        "# Post-process the response to remove extra conversational turns, internal steps, and parts of the system prompt\n",
        "def clean_model_response(response, full_prompt, system_prompt_lines):\n",
        "    \"\"\"Removes prompt, unwanted conversational turns, internal steps, and system prompt lines from the model response.\"\"\"\n",
        "    if response.startswith(full_prompt):\n",
        "        response = response[len(full_prompt):].strip()\n",
        "\n",
        "    response_lines = response.split('\\n')\n",
        "    processed_response = []\n",
        "    system_prompt_set = set(system_prompt_lines) # Convert system prompt lines to a set for efficient lookup\n",
        "\n",
        "    for line in response_lines:\n",
        "        stripped_line = line.strip()\n",
        "        # Check if the line starts with common turn indicators, internal steps, system prompt lines, or \"Solution X:\"\n",
        "        if stripped_line.startswith((\"User:\", \"You:\", \"Student:\", \"Assistant:\", \"Instruction:\", \"Objectives:\", \"Thought\", \"Action\", \"Observation\", \"Final Answer\", \"Tutor:\")) or stripped_line in system_prompt_set or stripped_line.startswith(\"Solution\"):\n",
        "            # If we encounter an unwanted line, stop processing,\n",
        "            # but only if we have processed at least one line of the actual response\n",
        "            if processed_response:\n",
        "                break\n",
        "            else: # If the very first line is unwanted, skip it\n",
        "                continue\n",
        "        processed_response.append(line)\n",
        "    return '\\n'.join(processed_response).strip()\n",
        "\n",
        "# Convert system prompt to a list of lines for filtering\n",
        "system_prompt_lines = system_prompt.split('\\n')\n",
        "\n",
        "\n",
        "while True:\n",
        "    user_input = input(\"You: \")\n",
        "\n",
        "    # Check for bad words in user input\n",
        "    if any(word in user_input.lower() for word in bad_words):\n",
        "        print(\"Model: Your input contains inappropriate language. The chat session has ended.\")\n",
        "        break\n",
        "\n",
        "    if user_input.lower() == 'quit':\n",
        "        print(\"Model: Goodbye!\")\n",
        "        break\n",
        "\n",
        "    # Append user input to history\n",
        "    conversation_history.append(f\"User: {user_input}\")\n",
        "\n",
        "    # Construct the full prompt using the function\n",
        "    full_prompt = format_chat_prompt(system_prompt, conversation_history, user_input)\n",
        "\n",
        "    # Generate text using the pipeline\n",
        "    # Adjusting generation parameters to encourage shorter, single-turn responses\n",
        "    response = pipe(full_prompt, max_new_tokens=150, do_sample=True, top_p=0.95, top_k=50)[0]['generated_text']\n",
        "\n",
        "    model_response_text = clean_model_response(response, full_prompt, system_prompt_lines)\n",
        "\n",
        "    print(f\"Model: {model_response_text}\")\n",
        "\n",
        "    # Append model response to history for the next turn\n",
        "    if model_response_text: # Only add if the model actually responded with something after processing\n",
        "        conversation_history.append(f\"Model: {model_response_text}\")\n",
        "\n",
        "\n",
        "print(\"Chat session ended.\")"
      ],
      "execution_count": null,
      "outputs": []
    }
  ]
}