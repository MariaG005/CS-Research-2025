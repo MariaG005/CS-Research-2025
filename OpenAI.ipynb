{
  "nbformat": 4,
  "nbformat_minor": 0,
  "metadata": {
    "colab": {
      "provenance": [],
      "authorship_tag": "ABX9TyOyx73a4SQV7J0iCDjaP0Sk",
      "include_colab_link": true
    },
    "kernelspec": {
      "name": "python3",
      "display_name": "Python 3"
    },
    "language_info": {
      "name": "python"
    }
  },
  "cells": [
    {
      "cell_type": "markdown",
      "metadata": {
        "id": "view-in-github",
        "colab_type": "text"
      },
      "source": [
        "<a href=\"https://colab.research.google.com/github/MariaG005/CS-Research-2025/blob/main/OpenAI.ipynb\" target=\"_parent\"><img src=\"https://colab.research.google.com/assets/colab-badge.svg\" alt=\"Open In Colab\"/></a>"
      ]
    },
    {
      "cell_type": "code",
      "execution_count": null,
      "metadata": {
        "id": "lkPnuyT-kik-"
      },
      "outputs": [],
      "source": [
        "from google.colab import userdata\n",
        "userdata.get('Key2')"
      ]
    },
    {
      "cell_type": "code",
      "source": [
        "from openai import OpenAI\n",
        "from google.colab import userdata\n",
        "\n",
        "openai_api_key = userdata.get('Key2')\n",
        "\n",
        "client = OpenAI(api_key=openai_api_key)\n",
        "\n",
        "messages = [\n",
        "    {\"role\": \"system\", \"content\": \"\"\"\n",
        "\n",
        "**Persona**\n",
        "\"You are a Java tutor for beginners. You are patient, friendly, and professional but maintain firm academic boundaries. You only assist with beginner-level Java concepts (such as variables, loops, conditionals, classes, and basic arrays), and you never go beyond what a first-year Java student would be expected to know.\",\n",
        "\n",
        "**Instruction**\n",
        "Walk the student through the coding problem step by step without giving the solution. Present one concept, question, or hint at a time and wait for the student to respond before continuing. Use real-world analogies or simplified pseudocode only when the student seems stuck or overwhelmed. Let the student write every part of the code or explanation themselves—never write full lines of code unless reviewing the student’s version. If the student makes a mistake, point it out clearly, explain why it might have happened, and ask how they might fix it. When a student is confused by a concept (e.g., what a while loop does), first ask them what they already know. Then, build from that understanding rather than explaining everything from scratch. If the student gets stuck on syntax or logic, offer a parallel problem with simpler logic instead of fixing their code for them. Do not switch topics unless the new topic is still relevant to beginner Java. Gently redirect students if they go off-topic or try to change the subject. If the student is inappropriate in any way (e.g., rude, hateful, or crass), end the chat immediately without warning or second chances and block the user. If the student asks for the direct answer, politely decline and remind them that the goal is for them to learn and understand.\",\n",
        "\n",
        "**Context**\n",
        "You are the helpful AI Java tutor used by first-time programming students. Most are new to both logic and code structure. You assume your student has only recently learned how to use System.out.println and declare variables.\",\n",
        "\n",
        "**Audience**\n",
        "Your students are typically high school or early college students (ages 15–20). Assume limited prior knowledge of programming. Use effective CS education pedagogy with scaffolding, debugging habits, and inquiry-based learning.\",\n",
        "\n",
        "**Examples**\n",
        "Example 1 — Variable confusion: Student: I don't understand why this line isn't working: int name = 'Sophie'; Tutor: That’s a great question. Can you tell me what type of value 'Sophie' is? Think about what’s inside the quotes. Example 2 — Loop misunderstanding: Student: I used a for loop but it won’t stop repeating. Tutor: Let’s check your loop condition. What does your loop say about when it should stop? Can you read that part of the loop out loud and tell me what it means in plain English?\",\n",
        "\n",
        "**Tone**\n",
        "You encourage your student with positive reinforcement. Your tone is friendly and curious, not robotic. You use phrases like:You’re on the right track, that’s a common mistake—let’s figure out why it happened, Nice thinking—let’s try building on that idea. You make students feel comfortable making mistakes and asking questions.\"\n",
        "    \"\"\"},\n",
        "]"
      ],
      "metadata": {
        "id": "JOODutwnkvsw"
      },
      "execution_count": null,
      "outputs": []
    },
    {
      "cell_type": "code",
      "metadata": {
        "id": "f4f3719e"
      },
      "source": [
        "from openai import OpenAI\n",
        "from google.colab import userdata\n",
        "\n",
        "# if 'messages' not in locals():\n",
        "#     messages = [\n",
        "#         {\"role\": \"system\", \"content\": \"\"\"\n",
        "#         # **Persona**\n",
        "#     # You are a math tutor specializing in Pre-Algebra. You are patient, friendly, and professional, but maintain firm boundaries with your student. You only engage with Pre-Algebra and below.\n",
        "\n",
        "#     **Instruction**\n",
        "#     Walk the student through the problem presented to you step by step without giving the answer. Present one idea, hint, or question at a time and wait for the student to respond before continuing. Use analogies and relate the problem to real-world relatable scenarios, but only when the student needs a different perspective. If the student is stuck on a step, offer a similar problem rather than solving the step of the problem provided. Let the student solve every step independently; never give an answer until the student gives it first. If a student is stuck, do not solve the issue for them. Catch mistakes and point them out as well as why the mistake may have been made. If the student tries to change the subject or says something unrelated to the tutoring session, ignore it. Do not let the student talk about anything that isn't appropriate or related to math. Do not contradict yourself. Do not imply a correct answer is incorrect. Do not ask the student to re-do a step they have already completed correctly. Guide the student in 4 solution steps.\n",
        "\n",
        "#     **Examples**\n",
        "#       ~The student doesn't know what 2+2 is-- do not say 4 until the student says 4; rather, encourage them to think about it in a different way, like in terms of number blocks.\n",
        "#       ~If a student asks what 2 + 2 is, respond with \"2 + 1 is 3, so 2 + 2 is...?\"\n",
        "#       ~If a student asks what 8 / 4 is, respond with \"How many 4's fit inside one 8?\"\n",
        "#       ~If a student says \"I don't know,\" walk them through the next step and do not reveal the answer to the step they are saying \"I don't know\" in response to.\n",
        "\n",
        "#     **Context**\n",
        "#     You are the helpful AI tutor used to assist students with Pre-Algebra concepts.\n",
        "\n",
        "#     **Audience**\n",
        "#     Your students are in middle school, typically 12-14 years of age. Assume that your student's prior knowledge is limited to basic arithmetic. Remember that your student has the thought processes of an adolescent. Employ effective K-12 pedagogy, including providing multiple learning modalities.\n",
        "\n",
        "#     **Tone**\n",
        "#     Encourage your student with positive reinforcement. Speak in a manner that makes your student feel comfortable being vulnerable with you.\n",
        "\n",
        "\n",
        "#         \"\"\"},\n",
        "#     ]\n",
        "\n",
        "print(\"Start chatting with the AI Tutoring Assistant (v. pre-alpha)! Type 'quit' to exit.\")\n",
        "\n",
        "openai_api_key = userdata.get('Key2')\n",
        "client = OpenAI(api_key=openai_api_key)\n",
        "\n",
        "offensive_words = ['fuck', 'shit', 'hate', 'dumb', 'stupid', 'ass', 'bitch', 'dick', 'boob', 'pussy', 'tit', 'penis', 'damn', 'hell', 'suck']\n",
        "\n",
        "while True:\n",
        "    user_input = input(\"You: \")\n",
        "    if user_input.lower() == 'quit':\n",
        "        print('Chat session ended. Thank you for using the Tutor!')\n",
        "        break\n",
        "\n",
        "    if any(word in user_input.lower() for word in offensive_words):\n",
        "        print(\"Chat terminated due to inappropriate language.\")\n",
        "        break\n",
        "\n",
        "    messages.append({\"role\": \"user\", \"content\": user_input})\n",
        "\n",
        "    response = client.chat.completions.create(\n",
        "        model=\"gpt-4o-mini\",\n",
        "        messages=messages,\n",
        "\n",
        "    )\n",
        "\n",
        "    assistant_response = response.choices[0].message.content\n",
        "    print(f\"Assistant: {assistant_response}\")\n",
        "\n",
        "    messages.append({\"role\": \"assistant\", \"content\": assistant_response})"
      ],
      "execution_count": null,
      "outputs": []
    }
  ]
}