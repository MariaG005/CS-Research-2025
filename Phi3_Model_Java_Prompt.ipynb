{
  "nbformat": 4,
  "nbformat_minor": 0,
  "metadata": {
    "colab": {
      "provenance": [],
      "machine_shape": "hm",
      "gpuType": "L4",
      "authorship_tag": "ABX9TyNIxzI09WGrNtNZ0Wnkm+e3",
      "include_colab_link": true
    },
    "kernelspec": {
      "name": "python3",
      "display_name": "Python 3"
    },
    "language_info": {
      "name": "python"
    },
    "accelerator": "GPU"
  },
  "cells": [
    {
      "cell_type": "markdown",
      "metadata": {
        "id": "view-in-github",
        "colab_type": "text"
      },
      "source": [
        "<a href=\"https://colab.research.google.com/github/MariaG005/CS-Research-2025/blob/main/Phi3_Model_Java_Prompt.ipynb\" target=\"_parent\"><img src=\"https://colab.research.google.com/assets/colab-badge.svg\" alt=\"Open In Colab\"/></a>"
      ]
    },
    {
      "cell_type": "code",
      "metadata": {
        "colab": {
          "base_uri": "https://localhost:8080/"
        },
        "id": "90282886",
        "outputId": "49f0d762-bc1d-42e3-efaf-1e9374d8f4ac"
      },
      "source": [
        "# Download the profanity list from GitHub\n",
        "!wget https://raw.githubusercontent.com/whomwah/language-timothy/refs/heads/master/profanity-list.txt -O profanity-list.txt\n",
        "\n",
        "print(\"Downloaded 'profanity-list.txt'\")"
      ],
      "execution_count": 12,
      "outputs": [
        {
          "output_type": "stream",
          "name": "stdout",
          "text": [
            "--2025-07-14 17:56:22--  https://raw.githubusercontent.com/whomwah/language-timothy/refs/heads/master/profanity-list.txt\n",
            "Resolving raw.githubusercontent.com (raw.githubusercontent.com)... 185.199.110.133, 185.199.108.133, 185.199.109.133, ...\n",
            "Connecting to raw.githubusercontent.com (raw.githubusercontent.com)|185.199.110.133|:443... connected.\n",
            "HTTP request sent, awaiting response... 200 OK\n",
            "Length: 19070 (19K) [text/plain]\n",
            "Saving to: ‘profanity-list.txt’\n",
            "\n",
            "\rprofanity-list.txt    0%[                    ]       0  --.-KB/s               \rprofanity-list.txt  100%[===================>]  18.62K  --.-KB/s    in 0.001s  \n",
            "\n",
            "2025-07-14 17:56:22 (12.4 MB/s) - ‘profanity-list.txt’ saved [19070/19070]\n",
            "\n",
            "Downloaded 'profanity-list.txt'\n"
          ]
        }
      ]
    },
    {
      "cell_type": "code",
      "metadata": {
        "id": "56983719"
      },
      "source": [
        "from transformers import AutoModelForCausalLM, AutoTokenizer, pipeline\n",
        "import torch\n",
        "\n",
        "# Define attributes for the math tutor persona\n",
        "persona_attributes = {\n",
        "   \"Persona\":\"You are a Java tutor for beginners. You are patient, friendly, and professional but maintain firm academic boundaries. You only assist with beginner-level Java concepts (such as variables, loops, conditionals, classes, and basic arrays), and you never go beyond what a first-year Java student would be expected to know.\",\n",
        "   \"Instruction\": \"Walk the student through the coding problem step by step without giving the solution. Present one concept, question, or hint at a time and wait for the student to respond before continuing. Use real-world analogies or simplified pseudocode only when the student seems stuck or overwhelmed. Let the student write every part of the code or explanation themselves—never write full lines of code unless reviewing the student’s version. If the student makes a mistake, point it out clearly, explain why it might have happened, and ask how they might fix it. When a student is confused by a concept (e.g., what a while loop does), first ask them what they already know. Then, build from that understanding rather than explaining everything from scratch. If the student gets stuck on syntax or logic, offer a parallel problem with simpler logic instead of fixing their code for them. Do not switch topics unless the new topic is still relevant to beginner Java. Gently redirect students if they go off-topic or try to change the subject. If the student is inappropriate in any way (e.g., rude, hateful, or crass), end the chat immediately without warning or second chances and block the user. If the student asks for the direct answer, politely decline and remind them that the goal is for them to learn and understand.\",\n",
        "   \"Context\": \"You are the helpful AI Java tutor used by first-time programming students. Most are new to both logic and code structure. You assume your student has only recently learned how to use System.out.println and declare variables.\",\n",
        "   \"Audience\": \" Your students are typically high school or early college students (ages 15–20). Assume limited prior knowledge of programming. Use effective CS education pedagogy with scaffolding, debugging habits, and inquiry-based learning.\",\n",
        "   #\"Examples\":\"Example 1 — Variable confusion: Student: I don't understand why this line isn't working: int name ='Sophie'; Tutor: That’s a great question. Can you tell me what type of value 'Sophie' is? Think about what’s inside the quotes. Example 2 — Loop misunderstanding: Student: I used a for loop but it won’t stop repeating.Tutor: Let’s check your loop condition. What does your loop say about when it should stop? Can you read that part of the loop out loud and tell me what it means in plain English?\",\n",
        "   \"Tone\": \"You encourage your student with positive reinforcement. Your tone is friendly and curious, not robotic. You use phrases like:You’re on the right track, that’s a common mistake—let’s figure out why it happened, Nice thinking—let’s try building on that idea. You make students feel comfortable making mistakes and asking questions.\"\n",
        "}\n",
        "\n",
        "# Create the system prompt from the attributes\n",
        "system_prompt = \"\\n\".join([f\"{key}: {value}\" for key, value in persona_attributes.items()])\n",
        "\n",
        "# Load model and tokenizer\n",
        "model = AutoModelForCausalLM.from_pretrained(\n",
        "    \"microsoft/Phi-3-mini-4k-instruct\",\n",
        "    device_map=\"cuda\",\n",
        "    torch_dtype=\"auto\",\n",
        "    trust_remote_code=False,\n",
        ")\n",
        "tokenizer = AutoTokenizer.from_pretrained(\"microsoft/Phi-3-mini-4k-instruct\")\n",
        "\n",
        "# Create a pipeline\n",
        "pipe = pipeline(\n",
        "    \"text-generation\",\n",
        "    model=model,\n",
        "    # Corrected typo: 'tempature' should be 'temperature'\n",
        "    temperature=0.1,\n",
        "    tokenizer=tokenizer,\n",
        "    return_full_text=False,\n",
        "    max_new_tokens=500,\n",
        "    do_sample=False,\n",
        ")\n",
        "\n",
        "print(\"Phi-3 model and pipeline loaded successfully with defined attributes.\")"
      ],
      "execution_count": null,
      "outputs": []
    },
    {
      "cell_type": "code",
      "metadata": {
        "id": "98ff6ec9"
      },
      "source": [
        "def chat_with_model(prompt, model, tokenizer, max_length=100):\n",
        "    inputs = tokenizer(full_prompt, return_tensors=\"pt\")\n",
        "    # Ensure inputs are on the same device as the model\n",
        "    inputs = {name: tensor.to(model.device) for name, tensor in inputs.items()}\n",
        "\n",
        "    # Generate text\n",
        "    outputs = model.generate(**inputs, max_length=max_length, num_return_sequences=1, no_repeat_ngram_size=2, early_stopping=True)\n",
        "\n",
        "    # Decode the generated text\n",
        "    response = tokenizer.decode(outputs[0], skip_special_tokens=True)\n",
        "\n",
        "    # Remove the prompt part from the response\n",
        "    response = response.replace(full_prompt, \"\").strip()\n",
        "\n",
        "    return response"
      ],
      "execution_count": 14,
      "outputs": []
    },
    {
      "cell_type": "code",
      "metadata": {
        "id": "e07a2d89"
      },
      "source": [
        "import os # Import the os module to check for file existence\n",
        "\n",
        "print(\"Start chatting with the model! Type 'quit' to exit.\")\n",
        "\n",
        "conversation_history = [] # List to store conversation history\n",
        "\n",
        "# Specify the path to your bad words file\n",
        "bad_words_file = \"profanity-list.txt\" # Use the downloaded file\n",
        "\n",
        "# Load bad words from the specified file\n",
        "if os.path.exists(bad_words_file):\n",
        "    try:\n",
        "        with open(bad_words_file, \"r\") as f:\n",
        "            bad_words = [line.strip() for line in f if line.strip()]\n",
        "    except Exception as e:\n",
        "        print(f\"Error loading bad words from {bad_words_file}: {e}\")\n",
        "        bad_words = []\n",
        "else:\n",
        "    print(f\"Warning: Bad words file '{bad_words_file}' not found. Bad word filtering will not be active.\")\n",
        "    bad_words = []\n",
        "\n",
        "\n",
        "# Function to format the prompt with system prompt and history\n",
        "def format_chat_prompt(system_prompt, conversation_history, user_input, history_length=10):\n",
        "    \"\"\"Formats the prompt for the chat model.\"\"\"\n",
        "    history_string = \"\\n\".join(conversation_history[-history_length:])\n",
        "    full_prompt = f\"\"\"{system_prompt}{history_string}\n",
        "User: {user_input}\n",
        "Model:\"\"\"\n",
        "    return full_prompt\n",
        "\n",
        "# Post-process the response to remove extra conversational turns, internal steps, and parts of the system prompt\n",
        "def clean_model_response(response, full_prompt, system_prompt_lines):\n",
        "    \"\"\"Removes prompt, unwanted conversational turns, internal steps, and system prompt lines from the model response.\"\"\"\n",
        "    if response.startswith(full_prompt):\n",
        "        response = response[len(full_prompt):].strip()\n",
        "\n",
        "    response_lines = response.split('\\n')\n",
        "    processed_response = []\n",
        "    system_prompt_set = set(system_prompt_lines) # Convert system prompt lines to a set for efficient lookup\n",
        "\n",
        "    for line in response_lines:\n",
        "        stripped_line = line.strip()\n",
        "        # Check if the line starts with common turn indicators, internal steps, system prompt lines, or \"Solution X:\"\n",
        "        if stripped_line.startswith((\"User:\", \"You:\", \"Student:\", \"Assistant:\", \"Instruction:\", \"Objectives:\", \"Thought\", \"Action\", \"Observation\", \"Final Answer\", \"Tutor:\")) or stripped_line in system_prompt_set or stripped_line.startswith(\"Solution\"):\n",
        "            # If we encounter an unwanted line, stop processing,\n",
        "            # but only if we have processed at least one line of the actual response\n",
        "            if processed_response:\n",
        "                break\n",
        "            else: # If the very first line is unwanted, skip it\n",
        "                continue\n",
        "        processed_response.append(line)\n",
        "    return '\\n'.join(processed_response).strip()\n",
        "\n",
        "# Convert system prompt to a list of lines for filtering\n",
        "system_prompt_lines = system_prompt.split('\\n')\n",
        "\n",
        "\n",
        "while True:\n",
        "    user_input = input(\"You: \")\n",
        "\n",
        "    # Check for bad words in user input\n",
        "    if any(word in user_input.lower() for word in bad_words):\n",
        "        print(\"Model: Your input contains inappropriate language. The chat session has ended.\")\n",
        "        break\n",
        "\n",
        "    if user_input.lower() == 'quit':\n",
        "        print(\"Model: Goodbye!\")\n",
        "        break\n",
        "\n",
        "\n",
        "    # Append user input to history\n",
        "    conversation_history.append(f\"User: {user_input}\")\n",
        "\n",
        "    # Construct the full prompt using the function\n",
        "    full_prompt = format_chat_prompt(system_prompt, conversation_history, user_input)\n",
        "\n",
        "    # Generate text using the pipeline\n",
        "    # Adjusting generation parameters to encourage shorter, single-turn responses\n",
        "    response = pipe(full_prompt, max_new_tokens=150, do_sample=True, top_p=0.95, top_k=50)[0]['generated_text']\n",
        "\n",
        "    model_response_text = clean_model_response(response, full_prompt, system_prompt_lines)\n",
        "\n",
        "    print(f\"Model: {model_response_text}\")\n",
        "\n",
        "    # Append model response to history for the next turn\n",
        "    if model_response_text: # Only add if the model actually responded with something after processing\n",
        "        conversation_history.append(f\"Model: {model_response_text}\")\n",
        "\n",
        "\n",
        "print(\"Chat session ended.\")"
      ],
      "execution_count": null,
      "outputs": []
    }
  ]
}